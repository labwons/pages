{
 "cells": [
  {
   "cell_type": "code",
   "execution_count": 1,
   "id": "85f14f25",
   "metadata": {
    "execution": {
     "iopub.execute_input": "2025-08-22T02:53:12.574563Z",
     "iopub.status.busy": "2025-08-22T02:53:12.574390Z",
     "iopub.status.idle": "2025-08-22T02:53:15.131928Z",
     "shell.execute_reply": "2025-08-22T02:53:15.131307Z"
    }
   },
   "outputs": [],
   "source": [
    "from labwons.util import DATETIME, DD\n",
    "import os\n",
    "\n",
    "ACTION = os.environ.get(\"GITHUB_EVENT_NAME\", \"LOCALHOST\").upper()\n",
    "HOSTID = os.environ.get(\"USERDOMAIN\", \"COLAB\") if ACTION == \"LOCALHOST\" else \"GITHUB\"\n",
    "JOBS   = [\n",
    "    \"FETCH.AFTER-MARKET\"\n",
    "]\n",
    "\n",
    "# GITHUB ACTION\n",
    "if ACTION == \"SCHEDULE\":\n",
    "\n",
    "    # SYSTEM EXITS WHEN THE LATEST TRADING DATE AND BUILD DATE IS DIFFERENT.\n",
    "    # THIS CODE IS IMPLEMENTED IN ORDER TO AVOID RUNNING ON WEEKDAY OR HOLIDAY\n",
    "    # OF THE MARKET.\n",
    "    if DATETIME.TRADING != DATETIME.TODAY:\n",
    "        raise SystemExit\n",
    "    \n",
    "    # IF THE TASK IS TRIGGERED BEFORE THE MARKET CLOSES, WHICH HARDLY HAPPENS,\n",
    "    # SYSTEM PAUSES UNTIL THE MARKET CLOSES\n",
    "    while (DATETIME.TIME().hour == 15) and (15 <= DATETIME.TIME().minute < 31):\n",
    "        DATETIME.pause(30)\n",
    "    \n",
    "    if DATETIME.TIME().hour >= 20:\n",
    "        JOBS = [\"FETCH.ECOS\", \"FETCH.FRED\", \"FETCH.FINANCIAL-STATEMENT\"]\n",
    "    else:\n",
    "        JOBS = [\"FETCH.AFTER-MARKET\", \"FETCH.STOCKS\"]\n",
    "    JOBS += [\"BUILD.MARKET-BASELINE\", \"BUILD.MACRO-BASELINE\", \"DEPLOY.ALL\"]\n",
    "\n",
    "# if ACTION == \"LOCALHOST\" and HOSTID == \"HKEFICO\":\n",
    "#     JOBS = [job for job in JOBS if not job.startswith(\"FETCH\")]"
   ]
  },
  {
   "cell_type": "code",
   "execution_count": 2,
   "id": "457206ac",
   "metadata": {
    "execution": {
     "iopub.execute_input": "2025-08-22T02:53:15.134265Z",
     "iopub.status.busy": "2025-08-22T02:53:15.134013Z",
     "iopub.status.idle": "2025-08-22T02:58:27.010820Z",
     "shell.execute_reply": "2025-08-22T02:58:27.010107Z"
    }
   },
   "outputs": [
    {
     "name": "stderr",
     "output_type": "stream",
     "text": [
      "[FETCH] 2025-08-22 11:53:15,141 [INFO] RUN [FETCH AFTER MARKET PYKRX DATA]\n"
     ]
    },
    {
     "name": "stderr",
     "output_type": "stream",
     "text": [
      "[FETCH] 2025-08-22 11:53:24,157 [INFO] >>> SUCCEED IN FETCHING MARKET CAP\n"
     ]
    },
    {
     "name": "stderr",
     "output_type": "stream",
     "text": [
      "[FETCH] 2025-08-22 11:53:28,126 [INFO] >>> SUCCEED IN FETCHING MULTIPLES\n"
     ]
    },
    {
     "name": "stderr",
     "output_type": "stream",
     "text": [
      "[FETCH] 2025-08-22 11:53:32,317 [INFO] >>> SUCCEED IN FETCHING FOREIGN EXHAUST RATE\n"
     ]
    },
    {
     "name": "stderr",
     "output_type": "stream",
     "text": [
      "[FETCH] 2025-08-22 11:53:33,773 [INFO] >>> SUCCEED IN FETCHING IPO LIST\n"
     ]
    },
    {
     "name": "stderr",
     "output_type": "stream",
     "text": [
      "[FETCH] 2025-08-22 11:53:39,049 [INFO] >>> SUCCEED IN FETCHING MARKET TYPE\n"
     ]
    },
    {
     "name": "stderr",
     "output_type": "stream",
     "text": [
      "[FETCH] 2025-08-22 11:53:47,173 [INFO] >>> SUCCEED IN FETCHING LARGE CAPS\n"
     ]
    },
    {
     "name": "stderr",
     "output_type": "stream",
     "text": [
      "[FETCH] 2025-08-22 11:58:26,992 [INFO] >>> SUCCEED IN FETCHING PERIODIC RETURNS\n"
     ]
    },
    {
     "name": "stderr",
     "output_type": "stream",
     "text": [
      "[FETCH] 2025-08-22 11:58:26,994 [INFO] END [FETCH AFTER MARKET PYKRX DATA] 1377 ITEMS: 311.85s\n"
     ]
    }
   ],
   "source": [
    "from labwons.fetch import FETCH_OK, AfterMarket\n",
    "from labwons.path import PATH\n",
    "\n",
    "archive = os.path.join(PATH.ARCHIVE, DATETIME.TODAY)\n",
    "dataset = DD()\n",
    "if \"FETCH.AFTER-MARKET\" in JOBS:    \n",
    "    afterMarket = AfterMarket()\n",
    "    if afterMarket.status == FETCH_OK:\n",
    "        dataset[os.path.join(archive, afterMarket.fname)] = afterMarket.data\n",
    "\n",
    "\n",
    "# FETCH 기록은 날짜별로 아카이빙 하자 Diff 할 필요가 없고 불필요한 이력 용량을 만들지 않아야지\n",
    "# 일정 기간이 지난 날짜 폴더들은 드라이브로 백업해서 용량을 관리하는거야\n",
    "# 여기 섹션에 모든 FETCH를 모으고 최종적으로 데이터프레임들을 날짜로 된 폴더에 넣는다\n",
    "# FETCH를 하지 않는 경우 베이스라인에서 참조할 수 있도록 최근 날짜를 찾아서 경로로 전달한다!\n",
    "\n",
    "os.makedirs(archive, exist_ok=True)\n",
    "for file, data in dataset.items():\n",
    "    data.to_parquet(f\"{file}.parquet\", engine='pyarrow')"
   ]
  }
 ],
 "metadata": {
  "kernelspec": {
   "display_name": "Python 3",
   "language": "python",
   "name": "python3"
  },
  "language_info": {
   "codemirror_mode": {
    "name": "ipython",
    "version": 3
   },
   "file_extension": ".py",
   "mimetype": "text/x-python",
   "name": "python",
   "nbconvert_exporter": "python",
   "pygments_lexer": "ipython3",
   "version": "3.10.18"
  }
 },
 "nbformat": 4,
 "nbformat_minor": 5
}
