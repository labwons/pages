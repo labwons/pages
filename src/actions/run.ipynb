{
  "cells": [
    {
      "cell_type": "code",
      "execution_count": null,
      "id": "63b_aFRgLdYR",
      "metadata": {
        "id": "63b_aFRgLdYR"
      },
      "outputs": [],
      "source": [
        "import os\n",
        "os.chdir(os.environ.get(\"GITHUB_WORKSPACE\", os.getcwd()))\n",
        "\n",
        "# ON GOOGLE COLAB, THIS SECTION MUST BE INITIALIZED. IT TAKES ABOUT 2MINUTES.\n",
        "# AFTER RUNNING THIS SECTION, RUNTIME(SESSION) MUST BE RESTARTED, IN ORDER TO\n",
        "# USE labwons/ PACKAGE. SESSION RESTART HOTKEY IS CTRL + M.\n",
        "if any(\"COLAB\" in key for key in os.environ):\n",
        "    !git clone https://github.com/labwons/labwons.git\n",
        "    %cd labwons\n",
        "    !pip install -r requirements.txt -e ."
      ]
    },
    {
      "cell_type": "code",
      "execution_count": 6,
      "id": "85f14f25",
      "metadata": {
        "id": "85f14f25"
      },
      "outputs": [],
      "source": [
        "ACTION = os.environ.get(\"GITHUB_EVENT_NAME\", \"LOCALHOST\").upper()\n",
        "HOSTID = os.environ.get(\"USERDOMAIN\", \"COLAB\") if ACTION == \"LOCALHOST\" else \"GITHUB\"\n",
        "JOBS   = [\n",
        "    # \"FETCH.DAILY-MARKET\",\n",
        "    # \"FETCH.SECTOR-COMPOSITION\",\n",
        "    \"FETCH.FINANCIAL-STATEMENT\",\n",
        "]"
      ]
    },
    {
      "cell_type": "code",
      "execution_count": 7,
      "id": "844a66d5",
      "metadata": {
        "id": "844a66d5"
      },
      "outputs": [],
      "source": [
        "from labwons.util import DATETIME, DD\n",
        "\n",
        "# GITHUB ACTION\n",
        "if ACTION == \"SCHEDULE\":\n",
        "\n",
        "    # SYSTEM EXITS WHEN THE LATEST TRADING DATE AND BUILD DATE IS DIFFERENT.\n",
        "    # THIS CODE IS IMPLEMENTED IN ORDER TO AVOID RUNNING ON WEEKDAY OR HOLIDAY\n",
        "    # OF THE MARKET.\n",
        "    if DATETIME.TRADING != DATETIME.TODAY:\n",
        "        raise SystemExit\n",
        "\n",
        "    # IF THE TASK IS TRIGGERED BEFORE THE MARKET CLOSES, WHICH HARDLY HAPPENS,\n",
        "    # SYSTEM PAUSES UNTIL THE MARKET CLOSES\n",
        "    while (DATETIME.TIME().hour == 15) and (15 <= DATETIME.TIME().minute < 31):\n",
        "        DATETIME.pause(30)\n",
        "\n",
        "    if DATETIME.TIME().hour >= 20:\n",
        "        JOBS = [\"FETCH.ECOS\", \"FETCH.FRED\", \"FETCH.FINANCIAL-STATEMENT\"]\n",
        "    else:\n",
        "        JOBS = [\"FETCH.DAILY-MARKET\", \"FETCH.STOCKS\"]\n",
        "    JOBS += [\"BUILD.MARKET-BASELINE\", \"BUILD.MACRO-BASELINE\", \"DEPLOY.ALL\"]\n",
        "\n",
        "# if ACTION == \"LOCALHOST\" and HOSTID == \"HKEFICO\":\n",
        "#     JOBS = [job for job in JOBS if not job.startswith(\"FETCH\")]"
      ]
    },
    {
      "cell_type": "code",
      "execution_count": null,
      "id": "457206ac",
      "metadata": {
        "id": "457206ac"
      },
      "outputs": [
        {
          "name": "stdout",
          "output_type": "stream",
          "text": [
            "Index(['005930', '000660', '373220', '207940', '005380', '012450', '000270',\n",
            "       '105560', '329180', '068270',\n",
            "       ...\n",
            "       '357230', '021820', '042520', '007980', '093920', '208370', '463480',\n",
            "       '382150', '322180', '012860'],\n",
            "      dtype='object', name='ticker', length=1361)\n"
          ]
        }
      ],
      "source": [
        "from labwons.path import PATH\n",
        "from labwons.fetch import (\n",
        "    FETCH_OK, \n",
        "    DailyMarket, SectorComposition, FinancialStatement\n",
        ")\n",
        "\n",
        "archive = os.path.join(PATH.ARCHIVE, DATETIME.TODAY)\n",
        "dataset = DD()\n",
        "if \"FETCH.DAILY-MARKET\" in JOBS:\n",
        "    dailyMarket = DailyMarket()\n",
        "    if dailyMarket.status == FETCH_OK:\n",
        "        dataset[os.path.join(archive, dailyMarket.fname)] = dailyMarket.data\n",
        "\n",
        "if \"FETCH.SECTOR-COMPOSITION\" in JOBS:\n",
        "    sectorComposition = SectorComposition()\n",
        "    if sectorComposition.status == FETCH_OK:\n",
        "        dataset[os.path.join(archive, sectorComposition.fname)] = sectorComposition.data\n",
        "\n",
        "if \"FETCH.FINANCIAL-STATEMENT\" in JOBS:\n",
        "    from pandas import read_parquet\n",
        "    baseline = os.path.join(PATH.ARCHIVE, f\"{max(int(date) for date in os.listdir(PATH.ARCHIVE))}/BASELINE.parquet\")\n",
        "    tickers = read_parquet(baseline, engine='pyarrow').index\n",
        "    financialStatement = FinancialStatement(*tickers)\n",
        "    if financialStatement.status == FETCH_OK:\n",
        "        dataset[os.path.join(archive, 'OVERVIEW')] = financialStatement.overview\n",
        "        dataset[os.path.join(archive, 'STATEMENT_A')] = financialStatement.annual\n",
        "        dataset[os.path.join(archive, 'STATEMENT_Q')] = financialStatement.quarter\n",
        "\n",
        "if dataset:\n",
        "    os.makedirs(archive, exist_ok=True)\n",
        "    for file, data in dataset.items():\n",
        "        data.to_parquet(f\"{file}.parquet\", engine='pyarrow')\n",
        "\n",
        "\n",
        "# TODO\n",
        "# 일정 기간이 지난 날짜의 아카이브 폴더는 드라이브로 백업하는 코드 작성: Clean-UP"
      ]
    },
    {
      "cell_type": "code",
      "execution_count": null,
      "id": "a536638c",
      "metadata": {
        "id": "a536638c",
        "outputId": "65afd955-ada0-464f-a57d-d6fbb3981456"
      },
      "outputs": [
        {
          "data": {
            "text/plain": [
              "'\\n\\n'"
            ]
          },
          "execution_count": 3,
          "metadata": {},
          "output_type": "execute_result"
        }
      ],
      "source": [
        "from labwons.util import Mail\n",
        "from labwons.logs import read_log\n",
        "\n",
        "report = Mail()\n",
        "report.content = content = read_log(\"fetch\", \"build\")\n",
        "report.subject = f'[{\"FAILED\" if \"FAILED\" in content else \"SUCCESS\"}] BUILD LABWONS : {DATETIME.CLOCK().strftime(\"%Y/%m/%d %H:%M\")}'\n",
        "report.send()\n",
        "\n",
        "if HOSTID == \"GITHUB\":\n",
        "    print(content)"
      ]
    }
  ],
  "metadata": {
    "colab": {
      "provenance": []
    },
    "kernelspec": {
      "display_name": "Python 3",
      "language": "python",
      "name": "python3"
    },
    "language_info": {
      "codemirror_mode": {
        "name": "ipython",
        "version": 3
      },
      "file_extension": ".py",
      "mimetype": "text/x-python",
      "name": "python",
      "nbconvert_exporter": "python",
      "pygments_lexer": "ipython3",
      "version": "3.10.11"
    }
  },
  "nbformat": 4,
  "nbformat_minor": 5
}
