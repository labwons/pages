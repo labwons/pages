{
  "cells": [
    {
      "cell_type": "code",
      "execution_count": null,
      "id": "63b_aFRgLdYR",
      "metadata": {
        "id": "63b_aFRgLdYR"
      },
      "outputs": [],
      "source": [
        "# ON GOOGLE COLAB, THIS SECTION MUST BE INITIALIZED. IT TAKES ABOUT 2MINUTES.\n",
        "# AFTER RUNNING THIS SECTION, RUNTIME(SESSION) MUST BE RESTARTED, IN ORDER TO\n",
        "# USE labwons/ PACKAGE. SESSION RESTART HOTKEY IS CTRL + M.\n",
        "import os\n",
        "if any(\"COLAB\" in e for e in os.environ):\n",
        "    !git clone https://github.com/labwons/labwons.git\n",
        "    %cd labwons\n",
        "    !pip install -r requirements.txt -e ."
      ]
    },
    {
      "cell_type": "code",
      "execution_count": 1,
      "id": "85f14f25",
      "metadata": {
        "id": "85f14f25"
      },
      "outputs": [],
      "source": [
        "JOBS   = [\n",
        "    # \"FETCH.DAILY-MARKET\",\n",
        "    \"FETCH.SECTOR-COMPOSITION\",\n",
        "    # \"FETCH.FINANCIAL-STATEMENT\",\n",
        "    # \"FETCH.STOCK-DATA\"\n",
        "]"
      ]
    },
    {
      "cell_type": "code",
      "execution_count": null,
      "id": "844a66d5",
      "metadata": {
        "id": "844a66d5"
      },
      "outputs": [],
      "source": [
        "from labwons.util import DATETIME\n",
        "import os\n",
        "\n",
        "os.chdir(os.environ.get(\"GITHUB_WORKSPACE\", os.getcwd()))\n",
        "ACTION = os.environ.get(\"GITHUB_EVENT_NAME\", \"LOCALHOST\").upper()\n",
        "HOSTID = os.environ.get(\"USERDOMAIN\", \"COLAB\") if ACTION == \"LOCALHOST\" else \"GITHUB\"\n",
        "\n",
        "# GITHUB ACTION\n",
        "if ACTION == \"SCHEDULE\":\n",
        "\n",
        "    # SYSTEM EXITS WHEN THE LATEST TRADING DATE AND BUILD DATE IS DIFFERENT.\n",
        "    # THIS CODE IS IMPLEMENTED IN ORDER TO AVOID RUNNING ON WEEKDAY OR HOLIDAY\n",
        "    # OF THE MARKET.\n",
        "    if DATETIME.TRADING != DATETIME.TODAY:\n",
        "        raise SystemExit\n",
        "\n",
        "    # IF THE TASK IS TRIGGERED BEFORE THE MARKET CLOSES, WHICH HARDLY HAPPENS,\n",
        "    # SYSTEM PAUSES UNTIL THE MARKET CLOSES\n",
        "    while (DATETIME.TIME().hour == 15) and (15 <= DATETIME.TIME().minute < 31):\n",
        "        DATETIME.pause(30)\n",
        "\n",
        "    if DATETIME.TIME().hour >= 20:\n",
        "        JOBS = [\"FETCH.ECOS\", \"FETCH.FRED\", \"FETCH.FINANCIAL-STATEMENT\"]\n",
        "    else:\n",
        "        JOBS = [\"FETCH.DAILY-MARKET\", \"FETCH.STOCKS\"]\n",
        "    JOBS += [\"BUILD.MARKET-BASELINE\", \"BUILD.MACRO-BASELINE\", \"DEPLOY.ALL\"]\n",
        "\n",
        "# if ACTION == \"LOCALHOST\" and HOSTID == \"HKEFICO\":\n",
        "#     JOBS = [job for job in JOBS if not job.startswith(\"FETCH\")]"
      ]
    },
    {
      "cell_type": "code",
      "execution_count": null,
      "id": "457206ac",
      "metadata": {
        "id": "457206ac"
      },
      "outputs": [],
      "source": [
        "from labwons.path import ARCHIVE, GITHUB_REMOTE\n",
        "from labwons.fetch import (\n",
        "    MarketDaily, MarketSectors, FinancialStatement\n",
        ")\n",
        "\n",
        "ARCHIVE.create(DATETIME.TODAY)\n",
        "if \"FETCH.DAILY-MARKET\" in JOBS:\n",
        "    MarketDaily.fetch(ARCHIVE.MARKET_DAILY)\n",
        "\n",
        "if \"FETCH.SECTOR-COMPOSITION\" in JOBS:\n",
        "    MarketSectors.fetch(ARCHIVE.MARKET_SECTORS)\n",
        "\n",
        "if \"FETCH.FINANCIAL-STATEMENT\" in JOBS:\n",
        "    from pandas import read_parquet\n",
        "    tickers = read_parquet(ARCHIVE.recentBaseline, engine='pyarrow').index\n",
        "    financialStatement = FinancialStatement(*tickers)\n",
        "    financialStatement.fetchOverview(ARCHIVE.MARKET_OVERVIEW)\n",
        "    financialStatement.fetchAnnualStatement(ARCHIVE.STATEMENT_A)\n",
        "    financialStatement.fetchQuarterStatement(ARCHIVE.STATEMENT_Q)\n",
        "\n",
        "if \"FETCH.STOCK-DATA\" in JOBS:\n",
        "    # TODO\n",
        "    # 로컬(HKEFICO)에서 개발할 때 사용하는 Cache\n",
        "    # 실제로는 즉시 Fetch -> Deploy 로 사용\n",
        "    pass\n",
        "\n",
        "if HOSTID == \"COLAB\" and \"FETCH.SECTOR-COMPOSITION\" in JOBS:\n",
        "    %cd labwons\n",
        "    !git config --global user.name \"SNOB ACTIONS\"\n",
        "    !git config --global user.email \"snob.labwons@gmail.com\"\n",
        "    !git remote set-url origin {GITHUB_REMOTE}\n",
        "    !git add {ARCHIVE.MARKET_SECTORS}\n",
        "    !git commit -m \"Update MARKET SECTOR COMPOSITION\"\n",
        "    !git push origin main\n",
        "\n",
        "# TODO\n",
        "# 일정 기간이 지난 날짜의 아카이브 폴더는 드라이브로 백업하는 코드 작성: Clean-UP"
      ]
    },
    {
      "cell_type": "code",
      "execution_count": null,
      "id": "a536638c",
      "metadata": {
        "id": "a536638c",
        "outputId": "65afd955-ada0-464f-a57d-d6fbb3981456"
      },
      "outputs": [
        {
          "data": {
            "text/plain": [
              "'\\n\\n'"
            ]
          },
          "execution_count": 3,
          "metadata": {},
          "output_type": "execute_result"
        }
      ],
      "source": [
        "if HOSTID == \"GITHUB\":\n",
        "    from labwons.util import Mail\n",
        "    from labwons.logs import read_log\n",
        "\n",
        "    report = Mail()\n",
        "    report.content = content = read_log(\"fetch\", \"build\")\n",
        "    report.subject = f'[{\"FAILED\" if \"FAILED\" in content else \"SUCCESS\"}] BUILD LABWONS : {DATETIME.CLOCK().strftime(\"%Y/%m/%d %H:%M\")}'\n",
        "    report.send()\n",
        "    # print(content) # TODO 만약 로그가 GITHUB 콘솔에 찍히면 삭제하세요."
      ]
    }
  ],
  "metadata": {
    "colab": {
      "provenance": []
    },
    "kernelspec": {
      "display_name": "Python 3",
      "language": "python",
      "name": "python3"
    },
    "language_info": {
      "codemirror_mode": {
        "name": "ipython",
        "version": 3
      },
      "file_extension": ".py",
      "mimetype": "text/x-python",
      "name": "python",
      "nbconvert_exporter": "python",
      "pygments_lexer": "ipython3",
      "version": "3.10.11"
    }
  },
  "nbformat": 4,
  "nbformat_minor": 5
}
