{
  "cells": [
    {
      "cell_type": "code",
      "source": [
        "# ON GOOGLE COLAB, THIS SECTION MUST BE INITIALIZED. IT TAKES ABOUT 2MINUTES.\n",
        "# AFTER RUNNING THIS SECTION, RUNTIME(SESSION) MUST BE RESTARTED, IN ORDER TO\n",
        "# USE labwons/ PACKAGE. SESSION RESTART HOTKEY IS CTRL + M.\n",
        "!git clone https://github.com/labwons/labwons.git\n",
        "%cd labwons\n",
        "!pip install -r requirements.txt\n",
        "!pip install -e ."
      ],
      "metadata": {
        "id": "63b_aFRgLdYR"
      },
      "id": "63b_aFRgLdYR",
      "execution_count": null,
      "outputs": []
    },
    {
      "cell_type": "code",
      "execution_count": 2,
      "id": "85f14f25",
      "metadata": {
        "id": "85f14f25"
      },
      "outputs": [],
      "source": [
        "import os\n",
        "\n",
        "ACTION = os.environ.get(\"GITHUB_EVENT_NAME\", \"LOCALHOST\").upper()\n",
        "HOSTID = os.environ.get(\"USERDOMAIN\", \"COLAB\") if ACTION == \"LOCALHOST\" else \"GITHUB\"\n",
        "JOBS   = [\n",
        "    \"FETCH.AFTER-MARKET\"\n",
        "]"
      ]
    },
    {
      "cell_type": "code",
      "execution_count": 3,
      "id": "844a66d5",
      "metadata": {
        "id": "844a66d5"
      },
      "outputs": [],
      "source": [
        "from labwons.util import DATETIME, DD\n",
        "\n",
        "# GITHUB ACTION\n",
        "if ACTION == \"SCHEDULE\":\n",
        "\n",
        "    # SYSTEM EXITS WHEN THE LATEST TRADING DATE AND BUILD DATE IS DIFFERENT.\n",
        "    # THIS CODE IS IMPLEMENTED IN ORDER TO AVOID RUNNING ON WEEKDAY OR HOLIDAY\n",
        "    # OF THE MARKET.\n",
        "    if DATETIME.TRADING != DATETIME.TODAY:\n",
        "        raise SystemExit\n",
        "\n",
        "    # IF THE TASK IS TRIGGERED BEFORE THE MARKET CLOSES, WHICH HARDLY HAPPENS,\n",
        "    # SYSTEM PAUSES UNTIL THE MARKET CLOSES\n",
        "    while (DATETIME.TIME().hour == 15) and (15 <= DATETIME.TIME().minute < 31):\n",
        "        DATETIME.pause(30)\n",
        "\n",
        "    if DATETIME.TIME().hour >= 20:\n",
        "        JOBS = [\"FETCH.ECOS\", \"FETCH.FRED\", \"FETCH.FINANCIAL-STATEMENT\"]\n",
        "    else:\n",
        "        JOBS = [\"FETCH.AFTER-MARKET\", \"FETCH.STOCKS\"]\n",
        "    JOBS += [\"BUILD.MARKET-BASELINE\", \"BUILD.MACRO-BASELINE\", \"DEPLOY.ALL\"]\n",
        "\n",
        "# if ACTION == \"LOCALHOST\" and HOSTID == \"HKEFICO\":\n",
        "#     JOBS = [job for job in JOBS if not job.startswith(\"FETCH\")]"
      ]
    },
    {
      "cell_type": "code",
      "execution_count": null,
      "id": "457206ac",
      "metadata": {
        "id": "457206ac"
      },
      "outputs": [],
      "source": [
        "from labwons.fetch import FETCH_OK, AfterMarket\n",
        "from labwons.path import PATH\n",
        "\n",
        "archive = os.path.join(PATH.ARCHIVE, DATETIME.TODAY)\n",
        "dataset = DD()\n",
        "if \"FETCH.AFTER-MARKET\" in JOBS:\n",
        "    afterMarket = AfterMarket()\n",
        "    if afterMarket.status == FETCH_OK:\n",
        "        dataset[os.path.join(archive, afterMarket.fname)] = afterMarket.data\n",
        "\n",
        "os.makedirs(archive, exist_ok=True)\n",
        "for file, data in dataset.items():\n",
        "    data.to_parquet(f\"{file}.parquet\", engine='pyarrow')\n",
        "\n",
        "# TODO\n",
        "# 일정 기간이 지난 날짜의 아카이브 폴더는 드라이브로 백업하는 코드 작성: Clean-UP"
      ]
    },
    {
      "cell_type": "code",
      "execution_count": null,
      "id": "a536638c",
      "metadata": {
        "id": "a536638c",
        "outputId": "65afd955-ada0-464f-a57d-d6fbb3981456"
      },
      "outputs": [
        {
          "data": {
            "text/plain": [
              "'\\n\\n'"
            ]
          },
          "execution_count": 3,
          "metadata": {},
          "output_type": "execute_result"
        }
      ],
      "source": [
        "from labwons.util import Mail\n",
        "from labwons.logs import read_log\n",
        "\n",
        "report = Mail()\n",
        "report.content = content = read_log(\"fetch\", \"build\")\n",
        "report.subject = f'[{\"FAILED\" if \"FAILED\" in content else \"SUCCESS\"}] BUILD LABWONS : {DATETIME.CLOCK().strftime(\"%Y/%m/%d %H:%M\")}'\n",
        "report.send()"
      ]
    }
  ],
  "metadata": {
    "kernelspec": {
      "display_name": "Python 3",
      "language": "python",
      "name": "python3"
    },
    "language_info": {
      "codemirror_mode": {
        "name": "ipython",
        "version": 3
      },
      "file_extension": ".py",
      "mimetype": "text/x-python",
      "name": "python",
      "nbconvert_exporter": "python",
      "pygments_lexer": "ipython3",
      "version": "3.10.11"
    },
    "colab": {
      "provenance": []
    }
  },
  "nbformat": 4,
  "nbformat_minor": 5
}