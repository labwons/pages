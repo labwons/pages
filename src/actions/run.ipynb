{
 "cells": [
  {
   "cell_type": "code",
   "execution_count": null,
   "id": "85f14f25",
   "metadata": {},
   "outputs": [],
   "source": [
    "from labwons.util import DATETIME, DD\n",
    "import os\n",
    "\n",
    "ACTION = os.environ.get(\"GITHUB_EVENT_NAME\", \"LOCALHOST\").upper()\n",
    "HOSTID = os.environ.get(\"USERDOMAIN\", \"COLAB\") if ACTION == \"LOCALHOST\" else \"GITHUB\"\n",
    "JOBS   = [\n",
    "    # \"FETCH.AFTER-MARKET\"\n",
    "]\n",
    "\n",
    "# GITHUB ACTION\n",
    "if ACTION == \"SCHEDULE\":\n",
    "\n",
    "    # SYSTEM EXITS WHEN THE LATEST TRADING DATE AND BUILD DATE IS DIFFERENT.\n",
    "    # THIS CODE IS IMPLEMENTED IN ORDER TO AVOID RUNNING ON WEEKDAY OR HOLIDAY\n",
    "    # OF THE MARKET.\n",
    "    if DATETIME.TRADING != DATETIME.TODAY:\n",
    "        raise SystemExit\n",
    "    \n",
    "    # IF THE TASK IS TRIGGERED BEFORE THE MARKET CLOSES, WHICH HARDLY HAPPENS,\n",
    "    # SYSTEM PAUSES UNTIL THE MARKET CLOSES\n",
    "    while (DATETIME.TIME().hour == 15) and (15 <= DATETIME.TIME().minute < 31):\n",
    "        DATETIME.pause(30)\n",
    "    \n",
    "    if DATETIME.TIME().hour >= 20:\n",
    "        JOBS = [\"FETCH.ECOS\", \"FETCH.FRED\", \"FETCH.FINANCIAL-STATEMENT\"]\n",
    "    else:\n",
    "        JOBS = [\"FETCH.AFTER-MARKET\", \"FETCH.STOCKS\"]\n",
    "    JOBS += [\"BUILD.MARKET-BASELINE\", \"BUILD.MACRO-BASELINE\", \"DEPLOY.ALL\"]\n",
    "\n",
    "# if ACTION == \"LOCALHOST\" and HOSTID == \"HKEFICO\":\n",
    "#     JOBS = [job for job in JOBS if not job.startswith(\"FETCH\")]"
   ]
  },
  {
   "cell_type": "code",
   "execution_count": null,
   "id": "457206ac",
   "metadata": {},
   "outputs": [
    {
     "name": "stderr",
     "output_type": "stream",
     "text": [
      "[FETCH] 2025-08-22 10:29:31,717 [INFO] RUN [FETCH AFTER MARKET PYKRX DATA]\n",
      "[FETCH] 2025-08-22 10:29:31,787 [ERROR] >>> FAILED TO FETCH TRADING DATE: index -1 is out of bounds for axis 0 with size 0\n"
     ]
    }
   ],
   "source": [
    "from labwons.fetch import FETCH_OK, AfterMarket\n",
    "from labwons.path import PATH\n",
    "\n",
    "\n",
    "archive = os.path.join(PATH.ARCHIVE, DATETIME.TODAY)\n",
    "dataset = DD()\n",
    "if \"FETCH.AFTER-MARKET\" in JOBS:    \n",
    "    afterMarket = AfterMarket()\n",
    "    if afterMarket.status == FETCH_OK:\n",
    "        dataset[os.path.join(archive, afterMarket.fname)] = afterMarket.data\n",
    "\n",
    "\n",
    "# FETCH 기록은 날짜별로 아카이빙 하자 Diff 할 필요가 없고 불필요한 이력 용량을 만들지 않아야지\n",
    "# 일정 기간이 지난 날짜 폴더들은 드라이브로 백업해서 용량을 관리하는거야\n",
    "# 여기 섹션에 모든 FETCH를 모으고 최종적으로 데이터프레임들을 날짜로 된 폴더에 넣는다\n",
    "# FETCH를 하지 않는 경우 베이스라인에서 참조할 수 있도록 최근 날짜를 찾아서 경로로 전달한다!\n",
    "\n",
    "os.makedirs(archive, exist_ok=True)\n",
    "for file, data in dataset.items():\n",
    "    data.to_parquet(f\"{file}.parquet\", engine='pyarrow')"
   ]
  },
  {
   "cell_type": "code",
   "execution_count": 5,
   "id": "a536638c",
   "metadata": {},
   "outputs": [
    {
     "ename": "ImportError",
     "evalue": "cannot import name 'Mail' from 'labwons.util' (E:\\$proj\\labwons\\src\\labwons\\util.py)",
     "output_type": "error",
     "traceback": [
      "\u001b[1;31m---------------------------------------------------------------------------\u001b[0m",
      "\u001b[1;31mImportError\u001b[0m                               Traceback (most recent call last)",
      "Cell \u001b[1;32mIn[5], line 1\u001b[0m\n\u001b[1;32m----> 1\u001b[0m \u001b[38;5;28;01mfrom\u001b[39;00m\u001b[38;5;250m \u001b[39m\u001b[38;5;21;01mlabwons\u001b[39;00m\u001b[38;5;21;01m.\u001b[39;00m\u001b[38;5;21;01mutil\u001b[39;00m\u001b[38;5;250m \u001b[39m\u001b[38;5;28;01mimport\u001b[39;00m Mail\n\u001b[0;32m      3\u001b[0m log \u001b[38;5;241m=\u001b[39m \u001b[38;5;124m'\u001b[39m\u001b[38;5;124m'\u001b[39m\n\u001b[0;32m      4\u001b[0m \u001b[38;5;28;01mfor\u001b[39;00m file \u001b[38;5;129;01min\u001b[39;00m (\u001b[38;5;124m'\u001b[39m\u001b[38;5;124mfetch\u001b[39m\u001b[38;5;124m'\u001b[39m, \u001b[38;5;124m'\u001b[39m\u001b[38;5;124mbuild\u001b[39m\u001b[38;5;124m'\u001b[39m):\n",
      "\u001b[1;31mImportError\u001b[0m: cannot import name 'Mail' from 'labwons.util' (E:\\$proj\\labwons\\src\\labwons\\util.py)"
     ]
    }
   ],
   "source": [
    "from labwons.util import Mail\n",
    "\n",
    "log = ''\n",
    "for file in ('fetch', 'build'):\n",
    "    with open(os.path.join(PATH.LOGS, rf'{file}_{DATETIME.TODAY}.log'), 'r', encoding='utf-8') as f:\n",
    "        log += f.read()\n",
    "    log += '\\n'\n",
    "\n",
    "# report = Mail()\n",
    "# report.content = \n",
    "# report.subject = \n",
    "log"
   ]
  }
 ],
 "metadata": {
  "kernelspec": {
   "display_name": "Python 3",
   "language": "python",
   "name": "python3"
  },
  "language_info": {
   "codemirror_mode": {
    "name": "ipython",
    "version": 3
   },
   "file_extension": ".py",
   "mimetype": "text/x-python",
   "name": "python",
   "nbconvert_exporter": "python",
   "pygments_lexer": "ipython3",
   "version": "3.10.11"
  }
 },
 "nbformat": 4,
 "nbformat_minor": 5
}
